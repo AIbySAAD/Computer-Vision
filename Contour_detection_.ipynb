{
  "nbformat": 4,
  "nbformat_minor": 0,
  "metadata": {
    "colab": {
      "provenance": []
    },
    "kernelspec": {
      "name": "python3",
      "display_name": "Python 3"
    },
    "language_info": {
      "name": "python"
    }
  },
  "cells": [
    {
      "cell_type": "code",
      "execution_count": 8,
      "metadata": {
        "colab": {
          "base_uri": "https://localhost:8080/",
          "height": 277
        },
        "id": "BKhEzxDYiYnh",
        "outputId": "8445df95-9063-4289-f259-a9e68e2a43c4"
      },
      "outputs": [
        {
          "output_type": "execute_result",
          "data": {
            "text/plain": [
              "array([[0, 0, 0, ..., 0, 0, 0],\n",
              "       [0, 0, 0, ..., 0, 0, 0],\n",
              "       [0, 0, 0, ..., 0, 0, 0],\n",
              "       ...,\n",
              "       [0, 0, 0, ..., 0, 0, 0],\n",
              "       [0, 0, 0, ..., 0, 0, 0],\n",
              "       [0, 0, 0, ..., 0, 0, 0]], dtype=uint8)"
            ],
            "text/html": [
              "<style>\n",
              "      .ndarray_repr .ndarray_raw_data {\n",
              "        display: none;\n",
              "      }\n",
              "      .ndarray_repr.show_array .ndarray_raw_data {\n",
              "        display: block;\n",
              "      }\n",
              "      .ndarray_repr.show_array .ndarray_image_preview {\n",
              "        display: none;\n",
              "      }\n",
              "      </style>\n",
              "      <div id=\"id-640419c3-7425-41c6-a6f3-e0f1f01c4cb6\" class=\"ndarray_repr\"><pre>ndarray (237, 193) <button style=\"padding: 0 2px;\">show data</button></pre><img src=\"data:image/png;base64,iVBORw0KGgoAAAANSUhEUgAAAMEAAADtCAAAAAAjR04NAAACtUlEQVR4nO2d0U7DMAxFW8T//3J4QYKqbWwnTq+nnvOAGHTBJ07aLc3MtgEAAAAAAAAAAAAAAAAAAJzZg8e3qWevIBRDu/iZXCIQwFX8wSZW8OU+8k7g/hfP4O3AfpjKNDhzYPRzShraWCs+A7PtnJE01IrLwNHyvMJoCx4DV9uzCm20EYeBs1nVKck2cEc2pdCG2/BfD9xRPIxp8ExY7fSNG8sg1GKGbbiNzFE0zoy6YRBsejCSdvvAQY0czFDBoHUfWvQNwqNCcEItkIOTdawbChicCSnoDWYHntzgUiBilW3w/FRW5+DGONARXQPhKoT/T3cN1i9BJPRR9ihKk3a7aedBxjCVGnQFvHbqc9E8SoOchcC+QXhepp69fArCHCRdbXQGWUuZhkFwVChW4WU5SFuMtQxCvSq5EaLKQd5ysmkQ6NcVKbAV7By444oIJL5ud4wiZ2SLBMxD3/G6yNW7y8aQdbArB7sdnu6OsuKOeHQa91v3zoNuK4sTkNZ7RXeGvGp3zradHeTxj4XQxp8KAAAAAAAAAAAAAAAAAAAAAAAAAAAAr6PO1uO2jUXz+Z/DcVh7P7Ixl8422kZmLbVXVyIrUg1OQxGDhdXg6lPDoF1+66OGwQwlDKhnJ2dlPTsNn1YN7uLFSEjhOy2SOPeBRl7mSQxipR4MEYFB9HTZ+g76eTALBnoEBsmFqRQ5yC2KJBlFqSWFNPMgsyCPaCYnFuRRnYvyCvLIzqZp5Wx014OscjaVr2i+kaY0MCJ0ThVpDlKW/iuPIh8YTJGyLk4O9GCgp7BBSqXiteTcoiucAyfKVccj+zaWlSoG++/XT70T+Pde4f+7hqSK3Q9sHTm+13G88zk+2z5k1b6KztJ0pOafcndObz/O6F6dh+nuJRH/K1QAAAAAAAAAAAAAAAAAgJfzA2P+epXeOk99AAAAAElFTkSuQmCC\" class=\"ndarray_image_preview\" /><pre class=\"ndarray_raw_data\">array([[0, 0, 0, ..., 0, 0, 0],\n",
              "       [0, 0, 0, ..., 0, 0, 0],\n",
              "       [0, 0, 0, ..., 0, 0, 0],\n",
              "       ...,\n",
              "       [0, 0, 0, ..., 0, 0, 0],\n",
              "       [0, 0, 0, ..., 0, 0, 0],\n",
              "       [0, 0, 0, ..., 0, 0, 0]], dtype=uint8)</pre></div><script>\n",
              "      (() => {\n",
              "      const titles = ['show data', 'hide data'];\n",
              "      let index = 0\n",
              "      document.querySelector('#id-640419c3-7425-41c6-a6f3-e0f1f01c4cb6 button').onclick = (e) => {\n",
              "        document.querySelector('#id-640419c3-7425-41c6-a6f3-e0f1f01c4cb6').classList.toggle('show_array');\n",
              "        index = (++index) % 2;\n",
              "        document.querySelector('#id-640419c3-7425-41c6-a6f3-e0f1f01c4cb6 button').textContent = titles[index];\n",
              "        e.preventDefault();\n",
              "        e.stopPropagation();\n",
              "      }\n",
              "      })();\n",
              "    </script>"
            ]
          },
          "metadata": {},
          "execution_count": 8
        }
      ],
      "source": [
        "import cv2\n",
        "img=cv2.imread('e.png',0)\n",
        "img"
      ]
    },
    {
      "cell_type": "code",
      "source": [
        "contours,hierarchy=cv2.findContours(img,cv2.RETR_CCOMP,cv2.CHAIN_APPROX_SIMPLE) # second parameter is returning complete and third is method"
      ],
      "metadata": {
        "id": "r4K0RB8Go-ur"
      },
      "execution_count": 13,
      "outputs": []
    },
    {
      "cell_type": "code",
      "source": [
        "type(contours)"
      ],
      "metadata": {
        "colab": {
          "base_uri": "https://localhost:8080/"
        },
        "id": "ThRzSQ1ppoxx",
        "outputId": "2b57c7e1-73d8-487e-b544-5a8d707e2d04"
      },
      "execution_count": 14,
      "outputs": [
        {
          "output_type": "execute_result",
          "data": {
            "text/plain": [
              "tuple"
            ]
          },
          "metadata": {},
          "execution_count": 14
        }
      ]
    },
    {
      "cell_type": "code",
      "source": [
        "len(contours)"
      ],
      "metadata": {
        "colab": {
          "base_uri": "https://localhost:8080/"
        },
        "id": "gNN2QuTkrBQi",
        "outputId": "db20a2e4-d46b-4a86-87ba-6a74ddb598eb"
      },
      "execution_count": 15,
      "outputs": [
        {
          "output_type": "execute_result",
          "data": {
            "text/plain": [
              "4"
            ]
          },
          "metadata": {},
          "execution_count": 15
        }
      ]
    },
    {
      "cell_type": "code",
      "source": [
        "hierarchy"
      ],
      "metadata": {
        "colab": {
          "base_uri": "https://localhost:8080/"
        },
        "id": "ABDg7B2JrFOK",
        "outputId": "28b7e983-b30d-42f4-c52a-9ab97be70a63"
      },
      "execution_count": 16,
      "outputs": [
        {
          "output_type": "execute_result",
          "data": {
            "text/plain": [
              "array([[[ 1, -1, -1, -1],\n",
              "        [ 2,  0, -1, -1],\n",
              "        [ 3,  1, -1, -1],\n",
              "        [-1,  2, -1, -1]]], dtype=int32)"
            ]
          },
          "metadata": {},
          "execution_count": 16
        }
      ]
    },
    {
      "cell_type": "code",
      "source": [
        "import numpy as np\n",
        "image=np.zeros(img.shape)"
      ],
      "metadata": {
        "id": "4ilfhMLisJAQ"
      },
      "execution_count": 29,
      "outputs": []
    },
    {
      "cell_type": "code",
      "source": [
        "cv2.drawContours(image,contours,0,255,3)"
      ],
      "metadata": {
        "colab": {
          "base_uri": "https://localhost:8080/"
        },
        "id": "f_nSd7mqrJtJ",
        "outputId": "06c9de2a-673a-4345-d761-837f338300bc"
      },
      "execution_count": 30,
      "outputs": [
        {
          "output_type": "execute_result",
          "data": {
            "text/plain": [
              "array([[0., 0., 0., ..., 0., 0., 0.],\n",
              "       [0., 0., 0., ..., 0., 0., 0.],\n",
              "       [0., 0., 0., ..., 0., 0., 0.],\n",
              "       ...,\n",
              "       [0., 0., 0., ..., 0., 0., 0.],\n",
              "       [0., 0., 0., ..., 0., 0., 0.],\n",
              "       [0., 0., 0., ..., 0., 0., 0.]])"
            ]
          },
          "metadata": {},
          "execution_count": 30
        }
      ]
    },
    {
      "cell_type": "code",
      "source": [
        "image"
      ],
      "metadata": {
        "colab": {
          "base_uri": "https://localhost:8080/"
        },
        "id": "4tYFKZRzsvqS",
        "outputId": "ae6802c2-0218-47c3-cb4a-9bb75a1ba1ea"
      },
      "execution_count": 31,
      "outputs": [
        {
          "output_type": "execute_result",
          "data": {
            "text/plain": [
              "array([[0., 0., 0., ..., 0., 0., 0.],\n",
              "       [0., 0., 0., ..., 0., 0., 0.],\n",
              "       [0., 0., 0., ..., 0., 0., 0.],\n",
              "       ...,\n",
              "       [0., 0., 0., ..., 0., 0., 0.],\n",
              "       [0., 0., 0., ..., 0., 0., 0.],\n",
              "       [0., 0., 0., ..., 0., 0., 0.]])"
            ]
          },
          "metadata": {},
          "execution_count": 31
        }
      ]
    },
    {
      "cell_type": "code",
      "source": [
        "from google.colab.patches import cv2_imshow"
      ],
      "metadata": {
        "id": "GjuauYRQtBTj"
      },
      "execution_count": 32,
      "outputs": []
    },
    {
      "cell_type": "code",
      "source": [
        "cv2_imshow(image)"
      ],
      "metadata": {
        "colab": {
          "base_uri": "https://localhost:8080/",
          "height": 254
        },
        "id": "F6P-VfqutYJq",
        "outputId": "3b7ad057-6d19-4bd5-e212-0f2734298ab4"
      },
      "execution_count": 33,
      "outputs": [
        {
          "output_type": "display_data",
          "data": {
            "text/plain": [
              "<PIL.Image.Image image mode=L size=193x237>"
            ],
            "image/png": "[encoded data removed]"
          },
          "metadata": {}
        }
      ]
    },
    {
      "cell_type": "code",
      "source": [],
      "metadata": {
        "id": "DUJG5jrqtcqm"
      },
      "execution_count": 33,
      "outputs": []
    }
  ]
}