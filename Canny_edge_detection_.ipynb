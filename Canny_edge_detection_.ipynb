{
  "nbformat": 4,
  "nbformat_minor": 0,
  "metadata": {
    "colab": {
      "provenance": []
    },
    "kernelspec": {
      "name": "python3",
      "display_name": "Python 3"
    },
    "language_info": {
      "name": "python"
    }
  },
  "cells": [
    {
      "cell_type": "code",
      "execution_count": 46,
      "metadata": {
        "id": "P3rx_l7r6wRh"
      },
      "outputs": [],
      "source": [
        "import cv2\n",
        "import matplotlib.pyplot as plt\n",
        "img=cv2.imread('car.png')\n",
        "blurred=cv2.blur(img,ksize=(5,5))"
      ]
    },
    {
      "cell_type": "code",
      "source": [
        "img=cv2.Canny(blurred,threshold1=60,threshold2=200)\n",
        "img"
      ],
      "metadata": {
        "colab": {
          "base_uri": "https://localhost:8080/",
          "height": 200
        },
        "id": "hD4F5mXY7Jmy",
        "outputId": "9d984a8e-418e-40d9-9388-7eec40ff40e5"
      },
      "execution_count": 47,
      "outputs": [
        {
          "output_type": "execute_result",
          "data": {
            "text/plain": [
              "array([[0, 0, 0, ..., 0, 0, 0],\n",
              "       [0, 0, 0, ..., 0, 0, 0],\n",
              "       [0, 0, 0, ..., 0, 0, 0],\n",
              "       ...,\n",
              "       [0, 0, 0, ..., 0, 0, 0],\n",
              "       [0, 0, 0, ..., 0, 0, 0],\n",
              "       [0, 0, 0, ..., 0, 0, 0]], dtype=uint8)"
            ],
            "text/html": [
              "<style>\n",
              "      .ndarray_repr .ndarray_raw_data {\n",
              "        display: none;\n",
              "      }\n",
              "      .ndarray_repr.show_array .ndarray_raw_data {\n",
              "        display: block;\n",
              "      }\n",
              "      .ndarray_repr.show_array .ndarray_image_preview {\n",
              "        display: none;\n",
              "      }\n",
              "      </style>\n",
              "      <div id=\"id-2de09076-81fb-4971-b707-dc9ff56039a9\" class=\"ndarray_repr\"><pre>ndarray (160, 284) <button style=\"padding: 0 2px;\">show data</button></pre><img src=\"data:image/png;base64,iVBORw0KGgoAAAANSUhEUgAAARwAAACgCAAAAAD74IyGAAADtklEQVR4nO2byaKkIAxFof//n/MWljIIiBBA7XMW3VVakngJU+AZAwAAAAAAAAAAAAAAAAAAAAAAAAAAAAAAAAAAxhhjF9qWlodWOjwRaRKn6aFGFlWEWCO3bB+aWPl69Ij0REBbyL2F3rebpc6KCHUNSmwQQdY1HmNk+5psRvea5Js46l0kGwMi8utnJBkoX21ZvjbxrcwnSfz0k+rsb5V44cI4vSZ2/o03EbD3FmLsudvIx9RZHTt1xjMF16Zu3lzS78yNnGOUSWpTupkYney3Oh4Rs/ewCQnk92/6lZNXP6ROoM1JHNnFKT1ddfGNhNrEKjhtcu87X515fY4Ya4zYoG8JpsfH7zIkJ8VDB61p4iS0sZ464v7LrwzSPfUHWlbYpvyr7kNyYuj/ur6rVmHwAs75bc0vcFzzsd4K1IVTubjU7WEZnlHiSFS8GGP9F5d95f37lnzpXdDgQo01JdTFyfsZ5Cei+V7cc1izK3a+nrTq3/ATH13oiXO/9lSzMp6IrtRyI71EwT2dmD7X/Zb6aitWJ3j6XqnD/Tn0BWfzs4EuneE7kBUJ1SNjNd3yXXpcbG7Sj42VmNmx84KA8Wh3tm1t9ZqwMcb0qPN0Ywo0+zs7wb6EVnX+B3HmZjXe1q5aR5C2yHmVOu3zjtZ5Tjld96TRTLZ21eJS42vk1guyZxuG6nNjqdvlSas4+7PRYtomP6sifjLoyoasWP7tKd9gCy5KD4/pmIJir2z4B1kaaNIzqLLjSxwrQ2InKrQUPFvnJx3tXKHPkVweWF8d16UZ8/M9a8TPT687Cfbbqqw7GqFgym3nSN5wuMvT6Ef3UH5UZnrTRLXGTsWd9id8l7LfB3Pa7c6e7dO3eio/HgcyJxTmIWY77ihu/z/9O0XH0gcJohvngy0Lkk/hIYC8A5riZK/uNaR9sLK1MYYNvTDDUpt8lQraFEgeMlwyTNXOxdSiulTOOWBUTHdszVRuLIrVkMfWDnxuetMfNO0F+NaLIa8T2NfFhAcuNaz2lFFXmTriVNnSPmzRJU5N5Ch1OeVm9cgjKNf79Xpz5GIFPCm7FjNjnlMaEdWMhOjsPmTz+5puvypxHTDhLGO2sGGqae1bJWNHty+4OBD4aGr+DqjXRKVdLfR2PM+xo+/18OgM0Sw59HPEom9GKnYUQWJlSLTHpY5N1ujq7u8pjanRODqHxs3EQ9pq5Xv567e0qWm4vy8ebemV0ucSfwAAAAAAAAAAAAAAAAAAAAAAAAAAAAAAAAAAMIY/ffG6NTguGWIAAAAASUVORK5CYII=\" class=\"ndarray_image_preview\" /><pre class=\"ndarray_raw_data\">array([[0, 0, 0, ..., 0, 0, 0],\n",
              "       [0, 0, 0, ..., 0, 0, 0],\n",
              "       [0, 0, 0, ..., 0, 0, 0],\n",
              "       ...,\n",
              "       [0, 0, 0, ..., 0, 0, 0],\n",
              "       [0, 0, 0, ..., 0, 0, 0],\n",
              "       [0, 0, 0, ..., 0, 0, 0]], dtype=uint8)</pre></div><script>\n",
              "      (() => {\n",
              "      const titles = ['show data', 'hide data'];\n",
              "      let index = 0\n",
              "      document.querySelector('#id-2de09076-81fb-4971-b707-dc9ff56039a9 button').onclick = (e) => {\n",
              "        document.querySelector('#id-2de09076-81fb-4971-b707-dc9ff56039a9').classList.toggle('show_array');\n",
              "        index = (++index) % 2;\n",
              "        document.querySelector('#id-2de09076-81fb-4971-b707-dc9ff56039a9 button').textContent = titles[index];\n",
              "        e.preventDefault();\n",
              "        e.stopPropagation();\n",
              "      }\n",
              "      })();\n",
              "    </script>"
            ]
          },
          "metadata": {},
          "execution_count": 47
        }
      ]
    }
  ]
}