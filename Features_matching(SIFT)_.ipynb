{
  "nbformat": 4,
  "nbformat_minor": 0,
  "metadata": {
    "colab": {
      "provenance": []
    },
    "kernelspec": {
      "name": "python3",
      "display_name": "Python 3"
    },
    "language_info": {
      "name": "python"
    }
  },
  "cells": [
    {
      "cell_type": "code",
      "execution_count": 149,
      "metadata": {
        "colab": {
          "base_uri": "https://localhost:8080/",
          "height": 240
        },
        "id": "BKhEzxDYiYnh",
        "outputId": "1f4e7504-c114-444c-8f30-d51b5b8fcad1"
      },
      "outputs": [
        {
          "output_type": "execute_result",
          "data": {
            "text/plain": [
              "array([[[255, 255, 255],\n",
              "        [255, 255, 255],\n",
              "        [255, 255, 255],\n",
              "        ...,\n",
              "        [255, 255, 255],\n",
              "        [255, 255, 255],\n",
              "        [255, 255, 255]],\n",
              "\n",
              "       [[255, 255, 255],\n",
              "        [255, 255, 255],\n",
              "        [255, 255, 255],\n",
              "        ...,\n",
              "        [255, 255, 255],\n",
              "        [255, 255, 255],\n",
              "        [255, 255, 255]],\n",
              "\n",
              "       [[255, 255, 255],\n",
              "        [255, 255, 255],\n",
              "        [255, 255, 255],\n",
              "        ...,\n",
              "        [255, 255, 255],\n",
              "        [255, 255, 255],\n",
              "        [255, 255, 255]],\n",
              "\n",
              "       ...,\n",
              "\n",
              "       [[255, 255, 255],\n",
              "        [255, 255, 255],\n",
              "        [255, 255, 255],\n",
              "        ...,\n",
              "        [255, 255, 255],\n",
              "        [255, 255, 255],\n",
              "        [255, 255, 255]],\n",
              "\n",
              "       [[255, 255, 255],\n",
              "        [255, 255, 255],\n",
              "        [255, 255, 255],\n",
              "        ...,\n",
              "        [255, 255, 255],\n",
              "        [255, 255, 255],\n",
              "        [255, 255, 255]],\n",
              "\n",
              "       [[255, 255, 255],\n",
              "        [255, 255, 255],\n",
              "        [255, 255, 255],\n",
              "        ...,\n",
              "        [255, 255, 255],\n",
              "        [255, 255, 255],\n",
              "        [255, 255, 255]]], dtype=uint8)"
            ],
            "text/html": [
              "<style>\n",
              "      .ndarray_repr .ndarray_raw_data {\n",
              "        display: none;\n",
              "      }\n",
              "      .ndarray_repr.show_array .ndarray_raw_data {\n",
              "        display: block;\n",
              "      }\n",
              "      .ndarray_repr.show_array .ndarray_image_preview {\n",
              "        display: none;\n",
              "      }\n",
              "      </style>\n",
              "      <div id=\"id-cde9ba22-1043-462f-b02b-a947aca60522\" class=\"ndarray_repr\"><pre>ndarray (200, 200, 3) <button style=\"padding: 0 2px;\">show data</button></pre><img src=\"data:image/png;base64,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\" class=\"ndarray_image_preview\" /><pre class=\"ndarray_raw_data\">array([[[255, 255, 255],\n",
              "        [255, 255, 255],\n",
              "        [255, 255, 255],\n",
              "        ...,\n",
              "        [255, 255, 255],\n",
              "        [255, 255, 255],\n",
              "        [255, 255, 255]],\n",
              "\n",
              "       [[255, 255, 255],\n",
              "        [255, 255, 255],\n",
              "        [255, 255, 255],\n",
              "        ...,\n",
              "        [255, 255, 255],\n",
              "        [255, 255, 255],\n",
              "        [255, 255, 255]],\n",
              "\n",
              "       [[255, 255, 255],\n",
              "        [255, 255, 255],\n",
              "        [255, 255, 255],\n",
              "        ...,\n",
              "        [255, 255, 255],\n",
              "        [255, 255, 255],\n",
              "        [255, 255, 255]],\n",
              "\n",
              "       ...,\n",
              "\n",
              "       [[255, 255, 255],\n",
              "        [255, 255, 255],\n",
              "        [255, 255, 255],\n",
              "        ...,\n",
              "        [255, 255, 255],\n",
              "        [255, 255, 255],\n",
              "        [255, 255, 255]],\n",
              "\n",
              "       [[255, 255, 255],\n",
              "        [255, 255, 255],\n",
              "        [255, 255, 255],\n",
              "        ...,\n",
              "        [255, 255, 255],\n",
              "        [255, 255, 255],\n",
              "        [255, 255, 255]],\n",
              "\n",
              "       [[255, 255, 255],\n",
              "        [255, 255, 255],\n",
              "        [255, 255, 255],\n",
              "        ...,\n",
              "        [255, 255, 255],\n",
              "        [255, 255, 255],\n",
              "        [255, 255, 255]]], dtype=uint8)</pre></div><script>\n",
              "      (() => {\n",
              "      const titles = ['show data', 'hide data'];\n",
              "      let index = 0\n",
              "      document.querySelector('#id-cde9ba22-1043-462f-b02b-a947aca60522 button').onclick = (e) => {\n",
              "        document.querySelector('#id-cde9ba22-1043-462f-b02b-a947aca60522').classList.toggle('show_array');\n",
              "        index = (++index) % 2;\n",
              "        document.querySelector('#id-cde9ba22-1043-462f-b02b-a947aca60522 button').textContent = titles[index];\n",
              "        e.preventDefault();\n",
              "        e.stopPropagation();\n",
              "      }\n",
              "      })();\n",
              "    </script>"
            ]
          },
          "metadata": {},
          "execution_count": 149
        }
      ],
      "source": [
        "import cv2\n",
        "import matplotlib.pyplot as plt\n",
        "book=cv2.imread('book.jpg',0)\n",
        "book=cv2.cvtColor(book,cv2.COLOR_BGR2RGB)\n",
        "book"
      ]
    },
    {
      "cell_type": "code",
      "source": [
        "books=cv2.imread('books.jpg',0)\n",
        "books=cv2.cvtColor(books,cv2.COLOR_BGR2RGB)\n",
        "books"
      ],
      "metadata": {
        "colab": {
          "base_uri": "https://localhost:8080/",
          "height": 182
        },
        "id": "G66LuESSqAJM",
        "outputId": "ab60e158-fd89-4bf7-951a-9a0cbb241793"
      },
      "execution_count": 150,
      "outputs": [
        {
          "output_type": "execute_result",
          "data": {
            "text/plain": [
              "array([[[255, 255, 255],\n",
              "        [255, 255, 255],\n",
              "        [255, 255, 255],\n",
              "        ...,\n",
              "        [255, 255, 255],\n",
              "        [255, 255, 255],\n",
              "        [255, 255, 255]],\n",
              "\n",
              "       [[255, 255, 255],\n",
              "        [255, 255, 255],\n",
              "        [255, 255, 255],\n",
              "        ...,\n",
              "        [255, 255, 255],\n",
              "        [255, 255, 255],\n",
              "        [255, 255, 255]],\n",
              "\n",
              "       [[255, 255, 255],\n",
              "        [255, 255, 255],\n",
              "        [255, 255, 255],\n",
              "        ...,\n",
              "        [255, 255, 255],\n",
              "        [255, 255, 255],\n",
              "        [255, 255, 255]],\n",
              "\n",
              "       ...,\n",
              "\n",
              "       [[255, 255, 255],\n",
              "        [255, 255, 255],\n",
              "        [255, 255, 255],\n",
              "        ...,\n",
              "        [255, 255, 255],\n",
              "        [255, 255, 255],\n",
              "        [255, 255, 255]],\n",
              "\n",
              "       [[255, 255, 255],\n",
              "        [255, 255, 255],\n",
              "        [255, 255, 255],\n",
              "        ...,\n",
              "        [255, 255, 255],\n",
              "        [255, 255, 255],\n",
              "        [255, 255, 255]],\n",
              "\n",
              "       [[255, 255, 255],\n",
              "        [255, 255, 255],\n",
              "        [255, 255, 255],\n",
              "        ...,\n",
              "        [255, 255, 255],\n",
              "        [255, 255, 255],\n",
              "        [255, 255, 255]]], dtype=uint8)"
            ],
            "text/html": [
              "<style>\n",
              "      .ndarray_repr .ndarray_raw_data {\n",
              "        display: none;\n",
              "      }\n",
              "      .ndarray_repr.show_array .ndarray_raw_data {\n",
              "        display: block;\n",
              "      }\n",
              "      .ndarray_repr.show_array .ndarray_image_preview {\n",
              "        display: none;\n",
              "      }\n",
              "      </style>\n",
              "      <div id=\"id-0a72260d-7534-4365-8c18-3d4f055b1d40\" class=\"ndarray_repr\"><pre>ndarray (142, 356, 3) <button style=\"padding: 0 2px;\">show data</button></pre><img src=\"data:image/png;base64,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\" class=\"ndarray_image_preview\" /><pre class=\"ndarray_raw_data\">array([[[255, 255, 255],\n",
              "        [255, 255, 255],\n",
              "        [255, 255, 255],\n",
              "        ...,\n",
              "        [255, 255, 255],\n",
              "        [255, 255, 255],\n",
              "        [255, 255, 255]],\n",
              "\n",
              "       [[255, 255, 255],\n",
              "        [255, 255, 255],\n",
              "        [255, 255, 255],\n",
              "        ...,\n",
              "        [255, 255, 255],\n",
              "        [255, 255, 255],\n",
              "        [255, 255, 255]],\n",
              "\n",
              "       [[255, 255, 255],\n",
              "        [255, 255, 255],\n",
              "        [255, 255, 255],\n",
              "        ...,\n",
              "        [255, 255, 255],\n",
              "        [255, 255, 255],\n",
              "        [255, 255, 255]],\n",
              "\n",
              "       ...,\n",
              "\n",
              "       [[255, 255, 255],\n",
              "        [255, 255, 255],\n",
              "        [255, 255, 255],\n",
              "        ...,\n",
              "        [255, 255, 255],\n",
              "        [255, 255, 255],\n",
              "        [255, 255, 255]],\n",
              "\n",
              "       [[255, 255, 255],\n",
              "        [255, 255, 255],\n",
              "        [255, 255, 255],\n",
              "        ...,\n",
              "        [255, 255, 255],\n",
              "        [255, 255, 255],\n",
              "        [255, 255, 255]],\n",
              "\n",
              "       [[255, 255, 255],\n",
              "        [255, 255, 255],\n",
              "        [255, 255, 255],\n",
              "        ...,\n",
              "        [255, 255, 255],\n",
              "        [255, 255, 255],\n",
              "        [255, 255, 255]]], dtype=uint8)</pre></div><script>\n",
              "      (() => {\n",
              "      const titles = ['show data', 'hide data'];\n",
              "      let index = 0\n",
              "      document.querySelector('#id-0a72260d-7534-4365-8c18-3d4f055b1d40 button').onclick = (e) => {\n",
              "        document.querySelector('#id-0a72260d-7534-4365-8c18-3d4f055b1d40').classList.toggle('show_array');\n",
              "        index = (++index) % 2;\n",
              "        document.querySelector('#id-0a72260d-7534-4365-8c18-3d4f055b1d40 button').textContent = titles[index];\n",
              "        e.preventDefault();\n",
              "        e.stopPropagation();\n",
              "      }\n",
              "      })();\n",
              "    </script>"
            ]
          },
          "metadata": {},
          "execution_count": 150
        }
      ]
    },
    {
      "cell_type": "code",
      "source": [
        "def display(img):\n",
        "  fig=plt.figure(figsize=(12,10))\n",
        "  ax=fig.add_subplot(111)\n",
        "  ax.imshow(img)"
      ],
      "metadata": {
        "id": "4kL5ne0e4mDd"
      },
      "execution_count": 151,
      "outputs": []
    },
    {
      "cell_type": "code",
      "source": [
        "sift=cv2.SIFT_create # creates an object can use to find detect and describe keypoints in image"
      ],
      "metadata": {
        "id": "EWTIXSW86FpZ"
      },
      "execution_count": 156,
      "outputs": []
    },
    {
      "cell_type": "code",
      "source": [
        "kp1,des1=sift.detectAndCompute(book,None) # No mask, returns keypoint and their description"
      ],
      "metadata": {
        "id": "Tf-DyQAK8lMj",
        "colab": {
          "base_uri": "https://localhost:8080/",
          "height": 141
        },
        "outputId": "e2c9b144-f808-46ce-edd2-d7c0610aa076"
      },
      "execution_count": 160,
      "outputs": [
        {
          "output_type": "error",
          "ename": "AttributeError",
          "evalue": "'builtin_function_or_method' object has no attribute 'detectAndCompute'",
          "traceback": [
            "\u001b[0;31m---------------------------------------------------------------------------\u001b[0m",
            "\u001b[0;31mAttributeError\u001b[0m                            Traceback (most recent call last)",
            "\u001b[0;32m<ipython-input-160-320e7f1c381e>\u001b[0m in \u001b[0;36m<cell line: 1>\u001b[0;34m()\u001b[0m\n\u001b[0;32m----> 1\u001b[0;31m \u001b[0mkp1\u001b[0m\u001b[0;34m,\u001b[0m\u001b[0mdes1\u001b[0m\u001b[0;34m=\u001b[0m\u001b[0msift\u001b[0m\u001b[0;34m.\u001b[0m\u001b[0mdetectAndCompute\u001b[0m\u001b[0;34m(\u001b[0m\u001b[0mbook\u001b[0m\u001b[0;34m,\u001b[0m\u001b[0;32mNone\u001b[0m\u001b[0;34m)\u001b[0m \u001b[0;31m# No mask, returns keypoint and their description\u001b[0m\u001b[0;34m\u001b[0m\u001b[0;34m\u001b[0m\u001b[0m\n\u001b[0m",
            "\u001b[0;31mAttributeError\u001b[0m: 'builtin_function_or_method' object has no attribute 'detectAndCompute'"
          ]
        }
      ]
    },
    {
      "cell_type": "code",
      "source": [
        "kp2,des2=sift.detectAndCompute(books,None) # No mask, returns keypoint and their description"
      ],
      "metadata": {
        "id": "lDYD1FWi-AD6"
      },
      "execution_count": null,
      "outputs": []
    },
    {
      "cell_type": "code",
      "source": [
        "bf=cv2.BFMatcher()"
      ],
      "metadata": {
        "id": "s1zXdYUZ-aTc"
      },
      "execution_count": null,
      "outputs": []
    },
    {
      "cell_type": "code",
      "source": [
        "matches=bf.knnMatch(des1,des2,k=2) # finding top 2 matches"
      ],
      "metadata": {
        "id": "gdA8ewiw-5-H"
      },
      "execution_count": null,
      "outputs": []
    },
    {
      "cell_type": "code",
      "source": [
        "matches"
      ],
      "metadata": {
        "id": "IHdiNE9dLOvH"
      },
      "execution_count": null,
      "outputs": []
    },
    {
      "cell_type": "code",
      "source": [
        "good_matches=[]\n",
        "for i,j in matches:\n",
        "  # if distance in match 1 less than 50% of match 2\n",
        "  if i.distance < 0.90*j.distance:\n",
        "    good_matches.append(i)"
      ],
      "metadata": {
        "id": "cwooNHnKLfSu"
      },
      "execution_count": null,
      "outputs": []
    },
    {
      "cell_type": "code",
      "source": [
        "good_matches"
      ],
      "metadata": {
        "id": "e3KlnMjmN3C6"
      },
      "execution_count": null,
      "outputs": []
    },
    {
      "cell_type": "code",
      "source": [
        "sift_matches=cv2.drawMatchesKnn(book,kp1,books,kp2,good_matches,None,flags=2)"
      ],
      "metadata": {
        "id": "aIqhmOvfN6Ee"
      },
      "execution_count": null,
      "outputs": []
    },
    {
      "cell_type": "code",
      "source": [
        "plt.imshow(sift_matches)"
      ],
      "metadata": {
        "id": "cpv5us7nPYmq"
      },
      "execution_count": null,
      "outputs": []
    },
    {
      "cell_type": "code",
      "source": [],
      "metadata": {
        "id": "Fj9fae1dQsa0"
      },
      "execution_count": null,
      "outputs": []
    }
  ]
}