{
  "nbformat": 4,
  "nbformat_minor": 0,
  "metadata": {
    "colab": {
      "provenance": []
    },
    "kernelspec": {
      "name": "python3",
      "display_name": "Python 3"
    },
    "language_info": {
      "name": "python"
    }
  },
  "cells": [
    {
      "cell_type": "code",
      "source": [
        "import numpy as np\n",
        "from google.colab.patches import cv2_imshow\n",
        "import cv2\n",
        "kernel=np.ones((5,5))\n",
        "image = np.zeros((200, 200))\n",
        "text_image = cv2.putText(image, text='ABC', org=(80, 150), fontFace=cv2.FONT_HERSHEY_SIMPLEX, fontScale=3, color=(255, 255, 255), thickness=10)\n",
        "eroded=cv2.erode(text_image,kernel,iterations=2)\n",
        "cv2_imshow(eroded)\n"
      ],
      "metadata": {
        "colab": {
          "base_uri": "https://localhost:8080/",
          "height": 217
        },
        "id": "y6MR9gaPteK6",
        "outputId": "c8d6badc-ed23-4af4-e214-a1a1447928b1"
      },
      "execution_count": null,
      "outputs": [
        {
          "output_type": "display_data",
          "data": {
            "text/plain": [
              "<PIL.Image.Image image mode=L size=200x200>"
            ],
            "image/png": "[encoded data removed]"
          },
          "metadata": {}
        }
      ]
    },
    {
      "cell_type": "code",
      "source": [
        "img=np.random.randint(low=0,high=2,size=(200,200),dtype=np.uint8)*255\n",
        "cv2_imshow(img)"
      ],
      "metadata": {
        "colab": {
          "base_uri": "https://localhost:8080/",
          "height": 217
        },
        "id": "s9dr7IDauM9o",
        "outputId": "0b74c6a0-e077-4daf-b19b-c75616a24cf8"
      },
      "execution_count": null,
      "outputs": [
        {
          "output_type": "display_data",
          "data": {
            "text/plain": [
              "<PIL.Image.Image image mode=L size=200x200>"
            ],
            "image/png": "[encoded data removed]"
          },
          "metadata": {}
        }
      ]
    },
    {
      "cell_type": "code",
      "source": [
        "noisy_image=img+text_image\n",
        "cv2_imshow(noisy_image)"
      ],
      "metadata": {
        "colab": {
          "base_uri": "https://localhost:8080/",
          "height": 217
        },
        "id": "-wKsigfzwanw",
        "outputId": "b17e6679-1836-4b7c-ae04-aebd334be89c"
      },
      "execution_count": null,
      "outputs": [
        {
          "output_type": "display_data",
          "data": {
            "text/plain": [
              "<PIL.Image.Image image mode=L size=200x200>"
            ],
            "image/png": "[encoded data removed]"
          },
          "metadata": {}
        }
      ]
    },
    {
      "cell_type": "code",
      "source": [
        "opening=cv2.morphologyEx(noisy_image,cv2.MORPH_OPEN,kernel)\n",
        "cv2_imshow(opening)"
      ],
      "metadata": {
        "colab": {
          "base_uri": "https://localhost:8080/",
          "height": 217
        },
        "id": "aKPWGJpcxyHO",
        "outputId": "e42a3508-36b4-4d03-9900-10357014e56a"
      },
      "execution_count": null,
      "outputs": [
        {
          "output_type": "display_data",
          "data": {
            "text/plain": [
              "<PIL.Image.Image image mode=L size=200x200>"
            ],
            "image/png": "[encoded data removed]"
          },
          "metadata": {}
        }
      ]
    },
    {
      "cell_type": "code",
      "source": [
        "opening=cv2.morphologyEx(text_image,cv2.MORPH_GRADIENT,kernel)\n",
        "cv2_imshow(opening)"
      ],
      "metadata": {
        "colab": {
          "base_uri": "https://localhost:8080/",
          "height": 217
        },
        "id": "L8PbfKh0zUEJ",
        "outputId": "144e78ad-fd05-4a74-ff8c-3b67f63c882b"
      },
      "execution_count": null,
      "outputs": [
        {
          "output_type": "display_data",
          "data": {
            "text/plain": [
              "<PIL.Image.Image image mode=L size=200x200>"
            ],
            "image/png": "[encoded data removed]"
          },
          "metadata": {}
        }
      ]
    },
    {
      "cell_type": "code",
      "source": [],
      "metadata": {
        "id": "cHnIywNe21u3"
      },
      "execution_count": null,
      "outputs": []
    }
  ]
}